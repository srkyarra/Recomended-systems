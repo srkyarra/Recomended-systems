{
 "cells": [
  {
   "cell_type": "code",
   "execution_count": 2,
   "id": "955de8ed",
   "metadata": {},
   "outputs": [
    {
     "name": "stdout",
     "output_type": "stream",
     "text": [
      " * Serving Flask app '__main__'\n",
      " * Debug mode: on\n"
     ]
    },
    {
     "name": "stderr",
     "output_type": "stream",
     "text": [
      "WARNING: This is a development server. Do not use it in a production deployment. Use a production WSGI server instead.\n",
      " * Running on all addresses (0.0.0.0)\n",
      " * Running on http://127.0.0.1:5000\n",
      " * Running on http://10.0.0.222:5000\n",
      "Press CTRL+C to quit\n",
      " * Restarting with watchdog (windowsapi)\n"
     ]
    },
    {
     "ename": "SystemExit",
     "evalue": "1",
     "output_type": "error",
     "traceback": [
      "An exception has occurred, use %tb to see the full traceback.\n",
      "\u001b[1;31mSystemExit\u001b[0m\u001b[1;31m:\u001b[0m 1\n"
     ]
    },
    {
     "name": "stderr",
     "output_type": "stream",
     "text": [
      "C:\\Users\\sivay\\anaconda3\\Lib\\site-packages\\IPython\\core\\interactiveshell.py:3534: UserWarning: To exit: use 'exit', 'quit', or Ctrl-D.\n",
      "  warn(\"To exit: use 'exit', 'quit', or Ctrl-D.\", stacklevel=1)\n"
     ]
    }
   ],
   "source": [
    "from flask import Flask, request, jsonify\n",
    "import pickle  # For loading the trained model\n",
    "import pandas as pd\n",
    "\n",
    "app = Flask(__name__)\n",
    "\n",
    "# 🔹 Load Trained Recommendation Model\n",
    "model_path = \"C:/Users/sivay/CSC 577 RECOMENDED SYSTEMS/project/project proposal/trained models/user_based_cf.pkl\"  # Update with your correct path\n",
    "with open(model_path, \"rb\") as file:\n",
    "    model = pickle.load(file)\n",
    "\n",
    "# 🔹 Function to Generate Recommendations\n",
    "def recommend_products(user_id, num_recommendations=5):\n",
    "    \"\"\"\n",
    "    Generate product recommendations for a user using the trained model.\n",
    "    \"\"\"\n",
    "    try:\n",
    "        similar_users = model[user_id].sort_values(ascending=False).index[:num_recommendations]\n",
    "        return similar_users.tolist()\n",
    "    except Exception as e:\n",
    "        return {\"error\": str(e)}\n",
    "\n",
    "# 🔹 API Endpoint for Recommendations\n",
    "@app.route('/recommend', methods=['GET'])\n",
    "def get_recommendations():\n",
    "    user_id = request.args.get('user_id')\n",
    "    if not user_id:\n",
    "        return jsonify({\"error\": \"User ID is required\"}), 400\n",
    "    recommendations = recommend_products(user_id)\n",
    "    return jsonify({\"user_id\": user_id, \"recommendations\": recommendations})\n",
    "   print(\"✅ Available User IDs in Model:\", model.index[:10].tolist())  # Print first 10 user IDs\n",
    "\n",
    "\n",
    "# 🔹 Run Flask App Locally\n",
    "if __name__ == '__main__':\n",
    "    app.run(host=\"0.0.0.0\", port=5000, debug=True)\n",
    "\n",
    "\n"
   ]
  },
  {
   "cell_type": "code",
   "execution_count": null,
   "id": "ca78e646",
   "metadata": {},
   "outputs": [],
   "source": []
  }
 ],
 "metadata": {
  "kernelspec": {
   "display_name": "Python 3 (ipykernel)",
   "language": "python",
   "name": "python3"
  },
  "language_info": {
   "codemirror_mode": {
    "name": "ipython",
    "version": 3
   },
   "file_extension": ".py",
   "mimetype": "text/x-python",
   "name": "python",
   "nbconvert_exporter": "python",
   "pygments_lexer": "ipython3",
   "version": "3.11.5"
  }
 },
 "nbformat": 4,
 "nbformat_minor": 5
}

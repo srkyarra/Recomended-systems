{
 "cells": [
  {
   "cell_type": "code",
   "execution_count": 1,
   "id": "0392d982",
   "metadata": {},
   "outputs": [
    {
     "name": "stdout",
     "output_type": "stream",
     "text": [
      "<class 'pandas.core.frame.DataFrame'>\n",
      "RangeIndex: 999 entries, 0 to 998\n",
      "Data columns (total 10 columns):\n",
      " #   Column          Non-Null Count  Dtype  \n",
      "---  ------          --------------  -----  \n",
      " 0   Unnamed: 0      999 non-null    int64  \n",
      " 1   asin            999 non-null    object \n",
      " 2   helpful         999 non-null    object \n",
      " 3   overall         999 non-null    float64\n",
      " 4   reviewText      997 non-null    object \n",
      " 5   reviewTime      999 non-null    object \n",
      " 6   reviewerID      999 non-null    object \n",
      " 7   reviewerName    994 non-null    object \n",
      " 8   summary         999 non-null    object \n",
      " 9   unixReviewTime  999 non-null    float64\n",
      "dtypes: float64(2), int64(1), object(7)\n",
      "memory usage: 78.2+ KB\n"
     ]
    },
    {
     "data": {
      "text/plain": [
       "(None,\n",
       "    Unnamed: 0        asin   helpful  overall  \\\n",
       " 0           0  0528881469    [0, 0]      5.0   \n",
       " 1           1  0528881469  [12, 15]      1.0   \n",
       " 2           2  0528881469  [43, 45]      3.0   \n",
       " 3           3  0528881469   [9, 10]      2.0   \n",
       " 4           4  0528881469    [0, 0]      1.0   \n",
       " \n",
       "                                           reviewText   reviewTime  \\\n",
       " 0  We got this GPS for my husband who is an (OTR)...   06 2, 2013   \n",
       " 1  I'm a professional OTR truck driver, and I bou...  11 25, 2010   \n",
       " 2  Well, what can I say.  I've had this unit in m...   09 9, 2010   \n",
       " 3  Not going to write a long review, even thought...  11 24, 2010   \n",
       " 4  I've had mine for a year and here's what we go...  09 29, 2011   \n",
       " \n",
       "        reviewerID              reviewerName  \\\n",
       " 0   AO94DHGC771SJ                   amazdnu   \n",
       " 1   AMO214LNFCEI4           Amazon Customer   \n",
       " 2  A3N7T0DY83Y4IG             C. A. Freeman   \n",
       " 3  A1H8PY3QHMQQA0  Dave M. Shaw \"mack dave\"   \n",
       " 4  A24EV6RXELQZ63               Wayne Smith   \n",
       " \n",
       "                                   summary  unixReviewTime  \n",
       " 0                         Gotta have GPS!    1.370131e+09  \n",
       " 1                       Very Disappointed    1.290643e+09  \n",
       " 2                          1st impression    1.283990e+09  \n",
       " 3                 Great grafics, POOR GPS    1.290557e+09  \n",
       " 4  Major issues, only excuses for support    1.317254e+09  )"
      ]
     },
     "execution_count": 1,
     "metadata": {},
     "output_type": "execute_result"
    }
   ],
   "source": [
    "import pandas as pd\n",
    "\n",
    "# Load the dataset\n",
    "file_path = \"C:/Users/sivay/CSC 577 RECOMENDED SYSTEMS/project/project proposal/amazon_reviews.csv\"\n",
    "df = pd.read_csv(file_path)\n",
    "\n",
    "# Display basic information about the dataset\n",
    "df.info(), df.head()\n"
   ]
  },
  {
   "cell_type": "markdown",
   "id": "3c866682",
   "metadata": {},
   "source": [
    "Step 1: Data Preprocessing for Amazon Reviews Dataset\n",
    "1. Handling Missing Values\n",
    "The dataset has missing values in the reviewText and reviewerName columns.\n",
    "We'll drop rows where reviewText is missing since it is crucial for analysis.\n",
    "We will fill missing values in reviewerName with \"Unknown\".\n",
    "2. Cleaning Text Data\n",
    "Convert text to lowercase.\n",
    "Remove special characters, punctuation, and numbers.\n",
    "Tokenize text and remove stopwords.\n",
    "Lemmatization to standardize words.\n",
    "3. Feature Engineering\n",
    "TF-IDF (Term Frequency-Inverse Document Frequency): Convert reviewText into numerical representation.\n",
    "Word Embeddings (Word2Vec): Generate word vectors for deeper analysis."
   ]
  },
  {
   "cell_type": "code",
   "execution_count": 18,
   "id": "2b6591ed",
   "metadata": {},
   "outputs": [
    {
     "name": "stderr",
     "output_type": "stream",
     "text": [
      "[nltk_data] Downloading package stopwords to\n",
      "[nltk_data]     C:\\Users\\sivay\\AppData\\Roaming\\nltk_data...\n",
      "[nltk_data]   Package stopwords is already up-to-date!\n"
     ]
    },
    {
     "name": "stdout",
     "output_type": "stream",
     "text": [
      "Cleaned dataset and TF-IDF features have been saved as CSV files.\n"
     ]
    }
   ],
   "source": [
    "import nltk\n",
    "import re\n",
    "from nltk.corpus import stopwords\n",
    "from sklearn.feature_extraction.text import TfidfVectorizer\n",
    "\n",
    "# Download stopwords if not already present\n",
    "nltk.download('stopwords')\n",
    "\n",
    "# Remove missing values in 'reviewText'\n",
    "df = df.dropna(subset=['reviewText'])\n",
    "\n",
    "# Function to clean text data\n",
    "def clean_text(text):\n",
    "    text = text.lower()  # Convert to lowercase\n",
    "    text = re.sub(r'\\d+', '', text)  # Remove numbers\n",
    "    text = re.sub(r'[^\\w\\s]', '', text)  # Remove punctuation\n",
    "    text = ' '.join([word for word in text.split() if word not in stopwords.words('english')])  # Remove stopwords\n",
    "    return text\n",
    "\n",
    "# Apply cleaning function\n",
    "df['cleaned_reviewText'] = df['reviewText'].apply(clean_text)\n",
    "\n",
    "# Feature Engineering: TF-IDF\n",
    "tfidf_vectorizer = TfidfVectorizer(max_features=500)  # Limit to top 500 features\n",
    "tfidf_matrix = tfidf_vectorizer.fit_transform(df['cleaned_reviewText'])\n",
    "\n",
    "# Convert TF-IDF matrix to DataFrame\n",
    "tfidf_df = pd.DataFrame(tfidf_matrix.toarray(), columns=tfidf_vectorizer.get_feature_names_out())\n",
    "# Save cleaned dataset and TF-IDF features to CSV\n",
    "df.to_csv(\"cleaned_amazon_reviews.csv\", index=False)\n",
    "tfidf_df.to_csv(\"tfidf_features1.csv\", index=False)\n",
    "\n",
    "# Print confirmation message\n",
    "print(\"Cleaned dataset and TF-IDF features have been saved as CSV files.\")\n"
   ]
  },
  {
   "cell_type": "markdown",
   "id": "a93ebaf2",
   "metadata": {},
   "source": [
    "Step 2: Exploratory Data Analysis (EDA)\n",
    "•\tVisualize rating distributions and user-item interactions\n",
    "•\tIdentify trends in purchase behavior\n"
   ]
  },
  {
   "cell_type": "code",
   "execution_count": 19,
   "id": "d42bd466",
   "metadata": {},
   "outputs": [
    {
     "data": {
      "image/png": "[encoded data removed]",
      "text/plain": [
       "<Figure size 800x500 with 1 Axes>"
      ]
     },
     "metadata": {},
     "output_type": "display_data"
    },
    {
     "data": {
      "image/png": "[encoded data removed]",
      "text/plain": [
       "<Figure size 800x500 with 1 Axes>"
      ]
     },
     "metadata": {},
     "output_type": "display_data"
    },
    {
     "data": {
      "image/png": "[encoded data removed]",
      "text/plain": [
       "<Figure size 1000x500 with 1 Axes>"
      ]
     },
     "metadata": {},
     "output_type": "display_data"
    }
   ],
   "source": [
    "import matplotlib.pyplot as plt\n",
    "import seaborn as sns\n",
    "\n",
    "# Visualizing rating distributions\n",
    "plt.figure(figsize=(8, 5))\n",
    "sns.countplot(x=df['overall'], palette=\"viridis\")\n",
    "plt.title(\"Distribution of Ratings\")\n",
    "plt.xlabel(\"Ratings (1-5)\")\n",
    "plt.ylabel(\"Count\")\n",
    "plt.show()\n",
    "\n",
    "# Visualizing user-item interactions (Number of reviews per user)\n",
    "user_review_counts = df['reviewerID'].value_counts()\n",
    "\n",
    "plt.figure(figsize=(8, 5))\n",
    "sns.histplot(user_review_counts, bins=50, log_scale=True, kde=True)\n",
    "plt.title(\"Distribution of Reviews per User\")\n",
    "plt.xlabel(\"Number of Reviews\")\n",
    "plt.ylabel(\"Count of Users\")\n",
    "plt.show()\n",
    "\n",
    "# Identifying trends in purchase behavior (Review counts over time)\n",
    "df['reviewTime'] = pd.to_datetime(df['reviewTime'], errors='coerce')\n",
    "\n",
    "df['year'] = df['reviewTime'].dt.year\n",
    "\n",
    "plt.figure(figsize=(10, 5))\n",
    "sns.countplot(x=df['year'].dropna(), palette=\"coolwarm\")\n",
    "plt.title(\"Number of Reviews Over the Years\")\n",
    "plt.xlabel(\"Year\")\n",
    "plt.ylabel(\"Number of Reviews\")\n",
    "plt.xticks(rotation=45)\n",
    "plt.show()\n"
   ]
  },
  {
   "cell_type": "markdown",
   "id": "d5c6b694",
   "metadata": {},
   "source": [
    "Step 3: Implement Recommendation Models\n",
    "•\tCollaborative Filtering: User-Based & Item-Based Filtering\n",
    "•\tContent-Based Filtering: TF-IDF similarity & embeddings\n",
    "•\tMatrix Factorization: Singular Value Decomposition (SVD) & Alternating Least Squares (ALS)\n",
    "•\tNeural Networks: Autoencoders and Deep Learning-based models\n"
   ]
  },
  {
   "cell_type": "code",
   "execution_count": 24,
   "id": "7a31545c",
   "metadata": {},
   "outputs": [
    {
     "name": "stdout",
     "output_type": "stream",
     "text": [
      "User-Based Recommendations: [0, 8, 23, 24, 30]\n",
      "Item-Based Recommendations: [22, 23, 24, 25, 26]\n",
      "Content-Based Recommendations: [2, 381, 385, 550, 582]\n",
      "Predicted Ratings Matrix (SVD):\n",
      " [[-1.49483886e-16  1.66311609e-17 -4.47076879e-16 ... -3.01598000e-16\n",
      "   7.62126059e-17 -7.02946303e-08]\n",
      " [-5.71309431e-16  5.57122529e-16  8.54666533e-16 ... -1.37213588e-16\n",
      "   2.18834804e-16  4.97180471e-10]\n",
      " [ 3.97402942e-15 -3.63282009e-16 -4.18938441e-16 ...  3.07040262e-16\n",
      "  -7.27137750e-17  5.51250385e-10]\n",
      " ...\n",
      " [-3.17351921e-18 -2.16003801e-17 -4.82399476e-18 ... -4.64319562e-18\n",
      "   1.94089905e-16  4.71453889e-06]\n",
      " [-5.71309431e-16  5.57122529e-16  8.54666533e-16 ... -1.37213588e-16\n",
      "   2.18834804e-16  4.97180477e-10]\n",
      " [-1.08054152e-16 -5.04100869e-16 -7.43074796e-17 ...  2.27378525e-16\n",
      "  -3.60475366e-16  1.43665618e-08]]\n"
     ]
    }
   ],
   "source": [
    "import numpy as np\n",
    "import pandas as pd\n",
    "import tensorflow as tf\n",
    "from tensorflow import keras\n",
    "from tensorflow.keras.models import Model\n",
    "from tensorflow.keras.layers import Input, Dense\n",
    "from sklearn.metrics.pairwise import cosine_similarity\n",
    "from scipy.sparse.linalg import svds\n",
    "from sklearn.feature_extraction.text import TfidfVectorizer\n",
    "\n",
    "# Load dataset\n",
    "#file_path = \"C:/Users/sivay/CSC 577 RECOMENDED SYSTEMS/project/project proposal/amazon_reviews.csv\"\n",
    "#df = pd.read_csv(file_path)\n",
    "\n",
    "\n",
    "df = df[['reviewerID', 'asin', 'overall', 'reviewText']].dropna()\n",
    "df['user_id'] = df['reviewerID'].astype(\"category\").cat.codes\n",
    "df['item_id'] = df['asin'].astype(\"category\").cat.codes\n",
    "\n",
    "# Creating user-item matrix\n",
    "user_item_matrix = df.pivot(index=\"user_id\", columns=\"item_id\", values=\"overall\").fillna(0)\n",
    "\n",
    "# Compute similarity matrices\n",
    "user_similarity = cosine_similarity(user_item_matrix)\n",
    "item_similarity = cosine_similarity(user_item_matrix.T)\n",
    "\n",
    "# Collaborative Filtering - User-Based & Item-Based Filtering\n",
    "def user_based_recommendation(user_similarity, user_item_matrix, user_id, num_recommendations=5):\n",
    "    similar_users = np.argsort(-user_similarity[user_id])[:num_recommendations + 1]\n",
    "    recommended_items = set()\n",
    "    for similar_user in similar_users:\n",
    "        if similar_user != user_id:\n",
    "            top_items = user_item_matrix.iloc[similar_user].sort_values(ascending=False).index[:num_recommendations]\n",
    "            recommended_items.update(top_items)\n",
    "    return list(recommended_items)\n",
    "\n",
    "def item_based_recommendation(item_similarity, item_id, num_recommendations=5):\n",
    "    similar_items = np.argsort(-item_similarity[item_id])[:num_recommendations + 1]\n",
    "    return list(similar_items[1:])\n",
    "\n",
    "# Content-Based Filtering using TF-IDF\n",
    "vectorizer = TfidfVectorizer(max_features=500)\n",
    "tfidf_matrix = vectorizer.fit_transform(df['reviewText'])\n",
    "tfidf_similarity = cosine_similarity(tfidf_matrix)\n",
    "\n",
    "def content_based_recommendation(tfidf_similarity, item_id, num_recommendations=5):\n",
    "    similar_items = np.argsort(-tfidf_similarity[item_id])[:num_recommendations + 1]\n",
    "    return list(similar_items[1:])\n",
    "\n",
    "# Matrix Factorization - SVD\n",
    "num_latent_factors = 20\n",
    "U, sigma, Vt = svds(user_item_matrix.to_numpy(), k=num_latent_factors)\n",
    "sigma = np.diag(sigma)\n",
    "predicted_ratings = np.dot(np.dot(U, sigma), Vt)\n",
    "\n",
    "# Neural Networks - Autoencoder for Recommendation\n",
    "def train_autoencoder(user_item_matrix, epochs=5, batch_size=4):\n",
    "    input_layer = Input(shape=(user_item_matrix.shape[1],))\n",
    "    encoded = Dense(128, activation='relu')(input_layer)\n",
    "    encoded = Dense(64, activation='relu')(encoded)\n",
    "    encoded = Dense(32, activation='relu')(encoded)\n",
    "    decoded = Dense(64, activation='relu')(encoded)\n",
    "    decoded = Dense(128, activation='relu')(decoded)\n",
    "    decoded = Dense(user_item_matrix.shape[1], activation='sigmoid')(decoded)\n",
    "\n",
    "    autoencoder = Model(input_layer, decoded)\n",
    "    autoencoder.compile(optimizer='adam', loss='mse')\n",
    "    user_item_array = user_item_matrix.to_numpy()\n",
    "    autoencoder.fit(user_item_array, user_item_array, epochs=epochs, batch_size=batch_size, shuffle=True)\n",
    "    return autoencoder\n",
    "\n",
    "# Example Recommendations\n",
    "sample_user_id = 0\n",
    "sample_item_id = 0\n",
    "user_recommendations = user_based_recommendation(user_similarity, user_item_matrix, sample_user_id)\n",
    "item_recommendations = item_based_recommendation(item_similarity, sample_item_id)\n",
    "content_recommendations = content_based_recommendation(tfidf_similarity, sample_item_id)\n",
    "\n",
    "print(\"User-Based Recommendations:\", user_recommendations)\n",
    "print(\"Item-Based Recommendations:\", item_recommendations)\n",
    "print(\"Content-Based Recommendations:\", content_recommendations)\n",
    "print(\"Predicted Ratings Matrix (SVD):\\n\", predicted_ratings)"
   ]
  },
  {
   "cell_type": "markdown",
   "id": "b9a3fd92",
   "metadata": {},
   "source": [
    "Step 4: Hybrid Model Development\n",
    "•\tCombine multiple approaches to improve recommendations\n",
    "•\tOptimize weighting mechanisms to balance CF & CBF results\n"
   ]
  },
  {
   "cell_type": "code",
   "execution_count": 25,
   "id": "baccace5",
   "metadata": {},
   "outputs": [
    {
     "name": "stdout",
     "output_type": "stream",
     "text": [
      "Hybrid Recommendations: [23, 24, 0, 8, 30]\n"
     ]
    }
   ],
   "source": [
    "# Hybrid Recommendation Model\n",
    "\n",
    "def hybrid_recommendation(user_id, item_id, weight_cf=0.5, weight_cbf=0.5, num_recommendations=5):\n",
    "    user_rec = user_based_recommendation(user_similarity, user_item_matrix, user_id, num_recommendations)\n",
    "    item_rec = item_based_recommendation(item_similarity, item_id, num_recommendations)\n",
    "    content_rec = content_based_recommendation(tfidf_similarity, item_id, num_recommendations)\n",
    "    \n",
    "    combined_scores = {}\n",
    "    for item in user_rec:\n",
    "        combined_scores[item] = combined_scores.get(item, 0) + weight_cf\n",
    "    for item in item_rec:\n",
    "        combined_scores[item] = combined_scores.get(item, 0) + weight_cf\n",
    "    for item in content_rec:\n",
    "        combined_scores[item] = combined_scores.get(item, 0) + weight_cbf\n",
    "    \n",
    "    sorted_recommendations = sorted(combined_scores.keys(), key=lambda x: combined_scores[x], reverse=True)\n",
    "    return sorted_recommendations[:num_recommendations]\n",
    "\n",
    "# Example Hybrid Recommendation\n",
    "hybrid_recommendations = hybrid_recommendation(sample_user_id, sample_item_id)\n",
    "\n",
    "print(\"Hybrid Recommendations:\", hybrid_recommendations)\n"
   ]
  },
  {
   "cell_type": "markdown",
   "id": "7bcb5f1e",
   "metadata": {},
   "source": [
    "Step 5: Model Evaluation & Tuning\n",
    "•\tTrain-test split for validation\n",
    "•\tUse evaluation metrics (Precision, Recall, RMSE, MAP)\n",
    "•\tHyperparameter tuning using GridSearchCV\n"
   ]
  },
  {
   "cell_type": "code",
   "execution_count": 35,
   "id": "2deecca9",
   "metadata": {},
   "outputs": [
    {
     "name": "stdout",
     "output_type": "stream",
     "text": [
      "Optimized Hybrid Recommendations: [22, 23, 24, 0, 1]\n",
      "Best Hyperparameters: {'weight_cf': 0.3, 'weight_cbf': 0.3}\n"
     ]
    }
   ],
   "source": [
    "df = df[['reviewerID', 'asin', 'overall', 'reviewText']].dropna()\n",
    "df['user_id'] = df['reviewerID'].astype(\"category\").cat.codes\n",
    "df['item_id'] = df['asin'].astype(\"category\").cat.codes\n",
    "\n",
    "# Creating user-item matrix\n",
    "user_item_matrix = df.pivot(index=\"user_id\", columns=\"item_id\", values=\"overall\").fillna(0)\n",
    "\n",
    "# Ensure train_test_split is used correctly\n",
    "if not df.empty:\n",
    "    train_data, test_data = train_test_split(df, test_size=0.2, random_state=42)\n",
    "else:\n",
    "    train_data, test_data = df, df  # Fallback in case of empty dataset\n",
    "\n",
    "# Compute similarity matrices\n",
    "user_similarity = cosine_similarity(user_item_matrix)\n",
    "item_similarity = cosine_similarity(user_item_matrix.T)\n",
    "\n",
    "# Model Evaluation Metrics\n",
    "\n",
    "def mean_average_precision(predictions, ground_truth):\n",
    "    if not predictions or not ground_truth.any():\n",
    "        return 0.0\n",
    "    \n",
    "    relevant_items = set(ground_truth.index)\n",
    "    avg_precision = 0.0\n",
    "    num_hits = 0\n",
    "    for i, pred in enumerate(predictions):\n",
    "        if pred in relevant_items:\n",
    "            num_hits += 1\n",
    "            avg_precision += num_hits / (i + 1)\n",
    "    \n",
    "    return avg_precision / min(len(relevant_items), len(predictions))\n",
    "\n",
    "def evaluate_model(predictions, ground_truth):\n",
    "    if len(predictions) == 0 or len(ground_truth) == 0:\n",
    "        return float('inf'), 0, 0, 0\n",
    "    \n",
    "    valid_predictions = [item for item in predictions if item in ground_truth.index]\n",
    "    if not valid_predictions:\n",
    "        return float('inf'), 0, 0, 0\n",
    "    \n",
    "    predicted_ratings = [ground_truth[item] for item in valid_predictions]\n",
    "    actual_ratings = ground_truth.loc[valid_predictions].values\n",
    "    \n",
    "    rmse = np.sqrt(mean_squared_error(actual_ratings, predicted_ratings))\n",
    "    precision = precision_score(actual_ratings, predicted_ratings, average='weighted', zero_division=0)\n",
    "    recall = recall_score(actual_ratings, predicted_ratings, average='weighted', zero_division=0)\n",
    "    map_score = mean_average_precision(predictions, ground_truth)\n",
    "    \n",
    "    return rmse, precision, recall, map_score\n",
    "\n",
    "# Hyperparameter Tuning using GridSearchCV\n",
    "def optimize_hyperparameters():\n",
    "    param_grid = {'weight_cf': [0.3, 0.5, 0.7], 'weight_cbf': [0.3, 0.5, 0.7]}\n",
    "    best_params = {'weight_cf': 0.5, 'weight_cbf': 0.5}\n",
    "    best_score = float('inf')\n",
    "    \n",
    "    for w_cf in param_grid['weight_cf']:\n",
    "        for w_cbf in param_grid['weight_cbf']:\n",
    "            recommendations = hybrid_recommendation(sample_user_id, sample_item_id, w_cf, w_cbf)\n",
    "            rmse, _, _, _ = evaluate_model(recommendations, test_data.set_index('item_id')['overall'])\n",
    "            \n",
    "            if rmse < best_score:\n",
    "                best_score = rmse\n",
    "                best_params = {'weight_cf': w_cf, 'weight_cbf': w_cbf}\n",
    "    \n",
    "    return best_params\n",
    "\n",
    "# Ensure sample user/item exist\n",
    "sample_user_id = df['user_id'].iloc[0]\n",
    "sample_item_id = df['item_id'].iloc[0]\n",
    "\n",
    "# Hybrid Recommendation Model\n",
    "def hybrid_recommendation(user_id, item_id, weight_cf=0.5, weight_cbf=0.5, num_recommendations=5):\n",
    "    user_rec = user_based_recommendation(user_similarity, user_item_matrix, user_id, num_recommendations)\n",
    "    item_rec = item_based_recommendation(item_similarity, item_id, num_recommendations)\n",
    "    content_rec = content_based_recommendation(tfidf_similarity, item_id, num_recommendations)\n",
    "    \n",
    "    combined_scores = {}\n",
    "    for item in user_rec:\n",
    "        combined_scores[item] = combined_scores.get(item, 0) + weight_cf\n",
    "    for item in item_rec:\n",
    "        combined_scores[item] = combined_scores.get(item, 0) + weight_cf\n",
    "    for item in content_rec:\n",
    "        combined_scores[item] = combined_scores.get(item, 0) + weight_cbf\n",
    "    \n",
    "    sorted_recommendations = sorted(combined_scores.keys(), key=lambda x: combined_scores[x], reverse=True)\n",
    "    return sorted_recommendations[:num_recommendations]\n",
    "\n",
    "# Optimize hyperparameters\n",
    "best_params = optimize_hyperparameters()\n",
    "\n",
    "# Example Hybrid Recommendation using optimized parameters\n",
    "hybrid_recommendations = hybrid_recommendation(sample_user_id, sample_item_id, best_params['weight_cf'], best_params['weight_cbf'])\n",
    "\n",
    "print(\"Optimized Hybrid Recommendations:\", hybrid_recommendations)\n",
    "print(\"Best Hyperparameters:\", best_params)"
   ]
  },
  {
   "cell_type": "code",
   "execution_count": 41,
   "id": "b22e981d",
   "metadata": {},
   "outputs": [
    {
     "name": "stdout",
     "output_type": "stream",
     "text": [
      "Requirement already satisfied: flask in c:\\users\\sivay\\anaconda3\\lib\\site-packages (2.2.2)\n",
      "Requirement already satisfied: Werkzeug>=2.2.2 in c:\\users\\sivay\\anaconda3\\lib\\site-packages (from flask) (2.2.3)\n",
      "Requirement already satisfied: Jinja2>=3.0 in c:\\users\\sivay\\anaconda3\\lib\\site-packages (from flask) (3.1.2)\n",
      "Requirement already satisfied: itsdangerous>=2.0 in c:\\users\\sivay\\anaconda3\\lib\\site-packages (from flask) (2.0.1)\n",
      "Requirement already satisfied: click>=8.0 in c:\\users\\sivay\\anaconda3\\lib\\site-packages (from flask) (8.0.4)\n",
      "Requirement already satisfied: colorama in c:\\users\\sivay\\anaconda3\\lib\\site-packages (from click>=8.0->flask) (0.4.6)\n",
      "Requirement already satisfied: MarkupSafe>=2.0 in c:\\users\\sivay\\anaconda3\\lib\\site-packages (from Jinja2>=3.0->flask) (2.1.1)\n",
      "Note: you may need to restart the kernel to use updated packages.\n"
     ]
    }
   ],
   "source": [
    "pip install flask\n"
   ]
  },
  {
   "cell_type": "code",
   "execution_count": null,
   "id": "3714bca3",
   "metadata": {},
   "outputs": [
    {
     "name": "stdout",
     "output_type": "stream",
     "text": [
      " * Serving Flask app '__main__'\n",
      " * Debug mode: on\n"
     ]
    },
    {
     "name": "stderr",
     "output_type": "stream",
     "text": [
      "WARNING: This is a development server. Do not use it in a production deployment. Use a production WSGI server instead.\n",
      " * Running on all addresses (0.0.0.0)\n",
      " * Running on http://127.0.0.1:5000\n",
      " * Running on http://172.20.20.20:5000\n",
      "Press CTRL+C to quit\n"
     ]
    }
   ],
   "source": [
    "# Deployment using Flask\n",
    "app = Flask(__name__)\n",
    "CORS(app)\n",
    "\n",
    "@app.route('/recommend', methods=['GET'])\n",
    "def recommend():\n",
    "    user_id = int(request.args.get('user_id'))\n",
    "    item_id = int(request.args.get('item_id'))\n",
    "    recommendations = hybrid_recommendation(user_id, item_id)\n",
    "    return jsonify({'recommendations': recommendations})\n",
    "\n",
    "import sys\n",
    "if __name__ == '__main__':\n",
    "    try:\n",
    "        app.run(host='0.0.0.0', port=5000, use_reloader=False, debug=True)\n",
    "    except SystemExit:\n",
    "        sys.exit(1)\n",
    "\n",
    "\n",
    "# Deployment using Streamlit\n",
    "st.title(\"Hybrid Recommendation System\")\n",
    "user_input = st.number_input(\"Enter User ID\", min_value=0, max_value=len(df['user_id'].unique())-1, step=1)\n",
    "item_input = st.number_input(\"Enter Item ID\", min_value=0, max_value=len(df['item_id'].unique())-1, step=1)\n",
    "\n",
    "if st.button(\"Get Recommendations\"):\n",
    "    recommendations = hybrid_recommendation(user_input, item_input)\n",
    "    st.write(\"Recommended Items:\", recommendations)\n",
    "\n",
    "# CI/CD setup - Example Dockerfile\n",
    "with open(\"Dockerfile\", \"w\") as f:\n",
    "    f.write(\"\"\"\n",
    "    FROM python:3.9\n",
    "    WORKDIR /app\n",
    "    COPY requirements.txt requirements.txt\n",
    "    RUN pip install -r requirements.txt\n",
    "    COPY . .\n",
    "    CMD [\"python\", \"app.py\"]\n",
    "    \"\"\")\n",
    "\n",
    "# AWS Deployment (Steps Overview)\n",
    "# 1. Build the Docker image: docker build -t hybrid-recommendation .\n",
    "# 2. Push to AWS ECR or Docker Hub\n",
    "# 3. Deploy on AWS EC2 or AWS Lambda with API Gateway\n",
    "\n",
    "# CI/CD pipeline (Example GitHub Actions)\n",
    "with open(\".github/workflows/deploy.yml\", \"w\") as f:\n",
    "    f.write(\"\"\"\n",
    "    name: Deploy Hybrid Recommendation System\n",
    "    on: [push]\n",
    "    jobs:\n",
    "      build:\n",
    "        runs-on: ubuntu-latest\n",
    "        steps:\n",
    "        - name: Checkout code\n",
    "          uses: actions/checkout@v2\n",
    "        - name: Set up Python\n",
    "          uses: actions/setup-python@v2\n",
    "          with:\n",
    "            python-version: '3.9'\n",
    "        - name: Install dependencies\n",
    "          run: |\n",
    "            pip install -r requirements.txt\n",
    "        - name: Build and push Docker image\n",
    "          run: |\n",
    "            docker build -t hybrid-recommendation .\n",
    "            docker tag hybrid-recommendation <your-docker-repo>:latest\n",
    "            docker push <your-docker-repo>:latest\n",
    "    \"\"\")"
   ]
  },
  {
   "cell_type": "code",
   "execution_count": null,
   "id": "fe2207aa",
   "metadata": {},
   "outputs": [],
   "source": []
  },
  {
   "cell_type": "code",
   "execution_count": null,
   "id": "bb1334c7",
   "metadata": {},
   "outputs": [],
   "source": []
  }
 ],
 "metadata": {
  "kernelspec": {
   "display_name": "Python 3 (ipykernel)",
   "language": "python",
   "name": "python3"
  },
  "language_info": {
   "codemirror_mode": {
    "name": "ipython",
    "version": 3
   },
   "file_extension": ".py",
   "mimetype": "text/x-python",
   "name": "python",
   "nbconvert_exporter": "python",
   "pygments_lexer": "ipython3",
   "version": "3.11.5"
  }
 },
 "nbformat": 4,
 "nbformat_minor": 5
}
